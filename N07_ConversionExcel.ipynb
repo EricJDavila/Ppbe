{
 "cells": [
  {
   "cell_type": "markdown",
   "metadata": {},
   "source": [
    "# N07. Conversión a Excel\n",
    "En este documento se explicará el proceso de conversión a un libro de Excel, de los datos de entrada y salida de los siguientes procesos:\n",
    "\n",
    "* Proyección de precios mensuales de energía en bolsa.\n",
    "* Selección de la alternativa.\n",
    "* Presupuesto de la compra de energía.\n",
    "\n",
    "## 7.1. Paquetes de conversión de datos DataFrame a Excel\n",
    "Hay tres paquetes que se utilizarán en la conversión de datos en formato DataFrame a datos en hojas Excel:\n",
    "\n",
    "1. **xlswriter**. No requiere tener instalado Excel. Solo permite escribir datos en DataFrame a Excel.\n",
    "2. **openpyxl**. No requiere tener instalado Excel. Permite escribir datos en DataFrame a Excel, pero también permite leer y editar.\n",
    "3. **xlwings***. Requiere tener instalado Excel. Permite escribir datos que están en DataFrame a Excel, pero también permite leer y editar. Adicionalmente, permite correr funciones y subrutinas VBA desde Python.\n",
    "\n",
    "## 7.2. Creación del libro Excel y hojas iniciales con 'xlswriter'\n",
    "\n"
   ]
  },
  {
   "cell_type": "code",
   "execution_count": 107,
   "metadata": {},
   "outputs": [],
   "source": [
    "#*******************************************************************************\n",
    "# 7.1. Carga los paquetes requeridos.\n",
    "#*******************************************************************************\n",
    "import numpy as np\n",
    "import pandas as pd\n",
    "import xlsxwriter\n",
    "from openpyxl import Workbook\n",
    "from openpyxl import load_workbook\n",
    "from openpyxl.drawing.image import Image\n",
    "from openpyxl.worksheet.table import Table, TableStyleInfo\n",
    "from openpyxl.utils import get_column_letter\n",
    "import xlwings as xw\n",
    "%matplotlib inline"
   ]
  },
  {
   "cell_type": "code",
   "execution_count": 244,
   "metadata": {},
   "outputs": [],
   "source": [
    "#*******************************************************************************\n",
    "# 7.2. Lee variables para realizar proyección.\n",
    "#*******************************************************************************\n",
    "aportes_m = pd.read_parquet('parquet/aportes_m.parquet.gzip', \\\n",
    "    engine='fastparquet')\n",
    "pbhL = pd.read_parquet('parquet/pbhL.parquet.gzip', \\\n",
    "    engine='fastparquet')\n",
    "pbm = pd.read_parquet('parquet/pbm.parquet.gzip', \\\n",
    "    engine='fastparquet')"
   ]
  },
  {
   "cell_type": "code",
   "execution_count": 245,
   "metadata": {},
   "outputs": [],
   "source": [
    "#*******************************************************************************\n",
    "# 7.3. Acondiona las variables para Excel.\n",
    "#*******************************************************************************\n",
    "pbm = pbm.reset_index()\n",
    "pbm.precio = pbm.precio.round(2)\n",
    "pbm.preEsca = pbm.preEsca.round(2)\n",
    "pbm.preConEsca = pbm.preConEsca.round(2)\n",
    "#pbm.mes = pd.to_datetime(pbm.mes).astype(str)\n",
    "# pbm.mes = '01/' + pbm.mes.to_period('M').strftime('%m/%Y')"
   ]
  },
  {
   "cell_type": "code",
   "execution_count": 238,
   "metadata": {},
   "outputs": [
    {
     "data": {
      "text/plain": [
       "Timestamp('2000-01-01 00:00:00')"
      ]
     },
     "execution_count": 238,
     "metadata": {},
     "output_type": "execute_result"
    }
   ],
   "source": [
    "(pbm.mes[0])"
   ]
  },
  {
   "cell_type": "code",
   "execution_count": 286,
   "metadata": {},
   "outputs": [],
   "source": [
    "#*******************************************************************************\n",
    "# 7.4. Crea libro y hojas de 'EnergiaCaracara_22_28'.\n",
    "#*******************************************************************************\n",
    "nombreHojas = ['h01_portada', 'h02_bases_calculo']\n",
    "workbook = xlsxwriter.Workbook('xlsx_salida/EnergiaCaracara_22_28.xlsx')\n",
    "for i, nombre in enumerate(nombreHojas, start=1):\n",
    "    worksheet = workbook.add_worksheet(nombre)\n",
    "workbook.close()"
   ]
  },
  {
   "cell_type": "code",
   "execution_count": 250,
   "metadata": {},
   "outputs": [],
   "source": [
    "#*******************************************************************************\n",
    "# 7.5. Carga imagen de la portada.\n",
    "#*******************************************************************************\n",
    "libro = load_workbook('xlsx_salida/EnergiaCaracara_22_28.xlsx')\n",
    "hoja = libro['h01_portada']\n",
    "imagen = Image('jpg/portadaCepsa.jpg')\n",
    "hoja.add_image(imagen, 'A12')\n",
    "libro.save('xlsx_salida/EnergiaCaracara_22_28.xlsx')"
   ]
  },
  {
   "cell_type": "code",
   "execution_count": 287,
   "metadata": {},
   "outputs": [],
   "source": [
    "#*******************************************************************************\n",
    "# 7.6. Carga el data frame pbh en la hoja 'h03_pbh'.\n",
    "#*******************************************************************************\n",
    "escritor = pd.ExcelWriter('xlsx_salida/EnergiaCaracara_22_28.xlsx', \n",
    "    engine='openpyxl', mode='a')\n",
    "pbm.to_excel(escritor, sheet_name='h04_pbm', startrow=5, startcol=0, \n",
    "    header=True, index=False)\n",
    "escritor.save()\n",
    "#xlsxwriter no agrega o edita datos. Ahora se trabaja con openpyxl.\n",
    "libro = load_workbook('xlsx_salida/EnergiaCaracara_22_28.xlsx')\n",
    "hoja = libro['h04_pbm']\n",
    "# encabezados = pbm.columns\n",
    "tab = Table(displayName=\"Tabla1\", ref='A6:D277')\n",
    "# Add a default style with striped rows and banded columns\n",
    "style = TableStyleInfo(name=\"TableStyleMedium9\", showFirstColumn=False,\n",
    "                       showLastColumn=False, showRowStripes=True, showColumnStripes=True)\n",
    "tab.tableStyleInfo = style\n",
    "#\n",
    "for i, _ in enumerate(pbm.columns, start=1):\n",
    "    letra = get_column_letter(i)\n",
    "    hoja.column_dimensions[letra].width = 15\n",
    "#\n",
    "hoja.add_table(tab)\n",
    "libro.save('xlsx_salida/EnergiaCaracara_22_28.xlsx')\n",
    "#Incluye la fórmula.\n",
    "hoja.cell(7, 4).value = \"=IF(B7 < C7, B7, C7)\"\n",
    "# \"=IF(hoja.cell(7, 2).value < hoja.cell(7, 3).value; hoja.cell(7, 2).value; hoja.cell(7, 3).value)\"\n",
    "#\n",
    "libro.save('xlsx_salida/EnergiaCaracara_22_28.xlsx')"
   ]
  },
  {
   "cell_type": "code",
   "execution_count": 188,
   "metadata": {},
   "outputs": [
    {
     "data": {
      "text/html": [
       "<div>\n",
       "<style scoped>\n",
       "    .dataframe tbody tr th:only-of-type {\n",
       "        vertical-align: middle;\n",
       "    }\n",
       "\n",
       "    .dataframe tbody tr th {\n",
       "        vertical-align: top;\n",
       "    }\n",
       "\n",
       "    .dataframe thead th {\n",
       "        text-align: right;\n",
       "    }\n",
       "</style>\n",
       "<table border=\"1\" class=\"dataframe\">\n",
       "  <thead>\n",
       "    <tr style=\"text-align: right;\">\n",
       "      <th></th>\n",
       "      <th>mes</th>\n",
       "      <th>precio</th>\n",
       "      <th>preEsca</th>\n",
       "      <th>preConEsca</th>\n",
       "    </tr>\n",
       "  </thead>\n",
       "  <tbody>\n",
       "    <tr>\n",
       "      <th>0</th>\n",
       "      <td>01/01/2000</td>\n",
       "      <td>36.77</td>\n",
       "      <td>2500.00</td>\n",
       "      <td>36.77</td>\n",
       "    </tr>\n",
       "    <tr>\n",
       "      <th>1</th>\n",
       "      <td>01/02/2000</td>\n",
       "      <td>40.26</td>\n",
       "      <td>2500.00</td>\n",
       "      <td>40.26</td>\n",
       "    </tr>\n",
       "    <tr>\n",
       "      <th>2</th>\n",
       "      <td>01/03/2000</td>\n",
       "      <td>37.63</td>\n",
       "      <td>2500.00</td>\n",
       "      <td>37.63</td>\n",
       "    </tr>\n",
       "    <tr>\n",
       "      <th>3</th>\n",
       "      <td>01/04/2000</td>\n",
       "      <td>44.29</td>\n",
       "      <td>2500.00</td>\n",
       "      <td>44.29</td>\n",
       "    </tr>\n",
       "    <tr>\n",
       "      <th>4</th>\n",
       "      <td>01/05/2000</td>\n",
       "      <td>37.29</td>\n",
       "      <td>2500.00</td>\n",
       "      <td>37.29</td>\n",
       "    </tr>\n",
       "    <tr>\n",
       "      <th>...</th>\n",
       "      <td>...</td>\n",
       "      <td>...</td>\n",
       "      <td>...</td>\n",
       "      <td>...</td>\n",
       "    </tr>\n",
       "    <tr>\n",
       "      <th>266</th>\n",
       "      <td>01/03/2022</td>\n",
       "      <td>227.00</td>\n",
       "      <td>854.16</td>\n",
       "      <td>227.00</td>\n",
       "    </tr>\n",
       "    <tr>\n",
       "      <th>267</th>\n",
       "      <td>01/04/2022</td>\n",
       "      <td>143.79</td>\n",
       "      <td>915.62</td>\n",
       "      <td>143.46</td>\n",
       "    </tr>\n",
       "    <tr>\n",
       "      <th>268</th>\n",
       "      <td>01/05/2022</td>\n",
       "      <td>105.29</td>\n",
       "      <td>971.18</td>\n",
       "      <td>105.29</td>\n",
       "    </tr>\n",
       "    <tr>\n",
       "      <th>269</th>\n",
       "      <td>01/06/2022</td>\n",
       "      <td>104.03</td>\n",
       "      <td>952.52</td>\n",
       "      <td>104.03</td>\n",
       "    </tr>\n",
       "    <tr>\n",
       "      <th>270</th>\n",
       "      <td>01/07/2022</td>\n",
       "      <td>100.23</td>\n",
       "      <td>1030.08</td>\n",
       "      <td>100.23</td>\n",
       "    </tr>\n",
       "  </tbody>\n",
       "</table>\n",
       "<p>271 rows × 4 columns</p>\n",
       "</div>"
      ],
      "text/plain": [
       "            mes  precio  preEsca  preConEsca\n",
       "0    01/01/2000   36.77  2500.00       36.77\n",
       "1    01/02/2000   40.26  2500.00       40.26\n",
       "2    01/03/2000   37.63  2500.00       37.63\n",
       "3    01/04/2000   44.29  2500.00       44.29\n",
       "4    01/05/2000   37.29  2500.00       37.29\n",
       "..          ...     ...      ...         ...\n",
       "266  01/03/2022  227.00   854.16      227.00\n",
       "267  01/04/2022  143.79   915.62      143.46\n",
       "268  01/05/2022  105.29   971.18      105.29\n",
       "269  01/06/2022  104.03   952.52      104.03\n",
       "270  01/07/2022  100.23  1030.08      100.23\n",
       "\n",
       "[271 rows x 4 columns]"
      ]
     },
     "execution_count": 188,
     "metadata": {},
     "output_type": "execute_result"
    }
   ],
   "source": [
    "pbm.reset_index()"
   ]
  },
  {
   "cell_type": "markdown",
   "metadata": {},
   "source": [
    "## 7.3. Edición del libro Excel con 'xlwings'"
   ]
  }
 ],
 "metadata": {
  "kernelspec": {
   "display_name": "Python 3.9.12 ('base')",
   "language": "python",
   "name": "python3"
  },
  "language_info": {
   "codemirror_mode": {
    "name": "ipython",
    "version": 3
   },
   "file_extension": ".py",
   "mimetype": "text/x-python",
   "name": "python",
   "nbconvert_exporter": "python",
   "pygments_lexer": "ipython3",
   "version": "3.9.12"
  },
  "orig_nbformat": 4,
  "vscode": {
   "interpreter": {
    "hash": "6ef3d5c7e38b83ce83c47390792005d39988e1ebb7bf2f58f567f819ea702123"
   }
  }
 },
 "nbformat": 4,
 "nbformat_minor": 2
}
