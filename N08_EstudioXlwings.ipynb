{
 "cells": [
  {
   "cell_type": "markdown",
   "metadata": {},
   "source": [
    "# N08. Estudio del paquete Xlwings\n",
    "En este documento se muestran los ejemplos del estudio del paquete **xlwings**.\n",
    "\n",
    "## 8.1. Uso de 'view' de xlwings\n",
    "\n"
   ]
  },
  {
   "cell_type": "code",
   "execution_count": 32,
   "metadata": {},
   "outputs": [],
   "source": [
    "#*******************************************************************************\n",
    "# 8.1. Carga los paquetes requeridos.\n",
    "#*******************************************************************************\n",
    "import numpy as np\n",
    "import pandas as pd\n",
    "import datetime as dt\n",
    "import matplotlib.pyplot as plt\n",
    "import xlwings as xw\n",
    "%matplotlib inline"
   ]
  },
  {
   "cell_type": "code",
   "execution_count": 2,
   "metadata": {},
   "outputs": [],
   "source": [
    "#*******************************************************************************\n",
    "# 8.2. Lee variables para realizar proyección de pbm.\n",
    "#*******************************************************************************\n",
    "aportes_m = pd.read_parquet('parquet/aportes_m.parquet.gzip', \\\n",
    "    engine='fastparquet')\n",
    "pbhL = pd.read_parquet('parquet/pbhL.parquet.gzip', \\\n",
    "    engine='fastparquet')\n",
    "pbm = pd.read_parquet('parquet/pbm.parquet.gzip', \\\n",
    "    engine='fastparquet')"
   ]
  },
  {
   "cell_type": "code",
   "execution_count": 4,
   "metadata": {},
   "outputs": [],
   "source": [
    "#*******************************************************************************\n",
    "# 8.3. Mira el DataFrame en Excel.\n",
    "#*******************************************************************************\n",
    "xw.view(pbhL) #¡Muy bien, muy bueno!"
   ]
  },
  {
   "cell_type": "code",
   "execution_count": 6,
   "metadata": {},
   "outputs": [],
   "source": [
    "#*******************************************************************************\n",
    "# 8.4. Mira otro DataFrame en Excel.\n",
    "#*******************************************************************************\n",
    "xw.view(aportes_m) # Se pueden ver varios DataFrame con el mismo objeto."
   ]
  },
  {
   "cell_type": "markdown",
   "metadata": {},
   "source": [
    "## 8.2. El modelo de objetos Excel\n",
    "Los libros, las hojas y las celdas son varios de los componentes de la aplicación Excel. Estos componentes está organizados en una estructura jerárquica llamada **El modelo de objetos Excel**. Esta jerarquía está conformada por **colecciones** como 'aplicaciones', 'libros', 'hojas', 'rangos', que a su vez contienen **objetos** como 'aplicación', 'libro', 'hoja' y 'rango', entre otros.\n",
    "\n",
    "'xlwings' usa 'app' en vez de 'application', 'book' en vez de 'workbook', 'sheet' en vez de 'worksheet'.\n",
    "\n",
    "Una 'app' contiene la colección de 'books', un 'book' contiene la colección de 'sheets' y una 'sheet' da acceso a objetos 'range' y a otras colecciones tales como 'charts', 'names' y 'pictures'. Un 'range' contiene una o más celdas contiguas como sus elementos.\n",
    "\n",
    "Una 'app' corresponde a una instancia o corrida del del programa Excel, es decir una aplicación que corre como un proceso separado.\n",
    "\n",
    "Para abrir un libro se usan los siguientes comandos:\n",
    "\n",
    "* xw.Book(). Retorna un nuevo objeto 'book'. Si no hay una instancia de excel activa, esto iniciará el programa Excel.\n",
    "* xw.Book(\"Book1\"). Retorna un objeto 'book' representando un libro de trabajo no salvado con nombre 'Book1' (el nombre del archivo no debe tener extensión).\n",
    "* xw.Book(\"Book1.xlsx\"). Retorna un objeto 'book' representando un libro de trabajo previamente salvado con el nombre 'Book1.xlsx' (el nombre del archivo debe tener extensión). Este archivo debe estar abierto o estar ubicado en el actual directorio.\n",
    "* xw.Book(r\"C:\\path\\Book1.xlsx\"). Retorna un objeto 'book' representando un libro de trabajo previamente salvado con el nombre del archivo conteniendo la ruta completa. Este archivo puede estar abierto o cerrado. El prefijo  "
   ]
  },
  {
   "cell_type": "code",
   "execution_count": 2,
   "metadata": {},
   "outputs": [],
   "source": [
    "#*******************************************************************************\n",
    "# 8.5. Lee el libro \"xlsx/Proyección demanda energía CCA 2022 - 2029.xlsx\".\n",
    "#*******************************************************************************\n",
    "libro = xw.Book(r\"xlsx/Proyección demanda energía CCA 2022 - 2029.xlsx\")"
   ]
  },
  {
   "cell_type": "code",
   "execution_count": 6,
   "metadata": {},
   "outputs": [
    {
     "data": {
      "text/plain": [
       "Sheets([<Sheet [Proyección demanda energía CCA 2022 - 2029.xlsx]Proyeccion Consumo>])"
      ]
     },
     "execution_count": 6,
     "metadata": {},
     "output_type": "execute_result"
    }
   ],
   "source": [
    "#*******************************************************************************\n",
    "# 8.6. Accesa la colección de hojas del libro.\n",
    "#*******************************************************************************\n",
    "libro.sheets #Solo tiene una hoja de datos: Proyeccion Consumo."
   ]
  },
  {
   "cell_type": "code",
   "execution_count": 10,
   "metadata": {},
   "outputs": [
    {
     "data": {
      "text/plain": [
       "'Proyeccion Consumo'"
      ]
     },
     "execution_count": 10,
     "metadata": {},
     "output_type": "execute_result"
    }
   ],
   "source": [
    "#*******************************************************************************\n",
    "# 8.7. Obtiene el objeto sheet por índice o por nombre.\n",
    "#*******************************************************************************\n",
    "hoja = libro.sheets[0]\n",
    "# hoja = libro.sheets['Proyeccion Consumo']\n",
    "hoja.name"
   ]
  },
  {
   "cell_type": "code",
   "execution_count": 16,
   "metadata": {},
   "outputs": [],
   "source": [
    "#*******************************************************************************\n",
    "# 8.8. Lee rango de celdas en hoja.\n",
    "#*******************************************************************************\n",
    "# hoja.range(\"A1:D156\").value"
   ]
  },
  {
   "cell_type": "markdown",
   "metadata": {},
   "source": [
    "## 8.3. Corre el código VBA desde Python"
   ]
  },
  {
   "cell_type": "code",
   "execution_count": 7,
   "metadata": {},
   "outputs": [],
   "source": [
    "#*******************************************************************************\n",
    "# 8.9. Lee el libro con código VBA.\n",
    "#*******************************************************************************\n",
    "libro_vba = xw.Book(\"xlsx/vba1.xlsm\")"
   ]
  },
  {
   "cell_type": "code",
   "execution_count": 21,
   "metadata": {},
   "outputs": [
    {
     "data": {
      "text/plain": [
       "9.0"
      ]
     },
     "execution_count": 21,
     "metadata": {},
     "output_type": "execute_result"
    }
   ],
   "source": [
    "#*******************************************************************************\n",
    "# 8.10. Usa una función macro VBA de Excel desde Python.\n",
    "#*******************************************************************************\n",
    "# Instancia el objeto macro con la función VBA.\n",
    "mi_suma = libro_vba.macro(\"Módulo1.MySum\")\n",
    "# Llama una función VBA\n",
    "mi_suma(5, 4)"
   ]
  },
  {
   "cell_type": "code",
   "execution_count": 12,
   "metadata": {},
   "outputs": [],
   "source": [
    "#*******************************************************************************\n",
    "# 8.11. Usa una subrutina macro VBA de Excel desde Python.\n",
    "#*******************************************************************************\n",
    "# Instancia el objeto macro con la función VBA.\n",
    "# muestra_mensaje = libro_vba.macro(\"Módulo1.ShowMsgBox\")\n",
    "# Llama una función VBA\n",
    "muestra_mensaje = libro_vba.macro(\"Módulo1.ShowMsgBox\")\n",
    "muestra_mensaje(\"Hola xlwings!\")"
   ]
  },
  {
   "cell_type": "markdown",
   "metadata": {},
   "source": [
    "## 8.4. Convertidores, opciones y colecciones\n",
    "\n",
    "### 8.4.1. Trabajando con DataFrames\n",
    "Escribir un DataFrame a Excel no es diferente a escribir un escalar o una lista anidada: simplemente asigne el DataFrame a la celsa superior izquierda de un rango Excel."
   ]
  },
  {
   "cell_type": "code",
   "execution_count": 7,
   "metadata": {},
   "outputs": [
    {
     "data": {
      "text/html": [
       "<div>\n",
       "<style scoped>\n",
       "    .dataframe tbody tr th:only-of-type {\n",
       "        vertical-align: middle;\n",
       "    }\n",
       "\n",
       "    .dataframe tbody tr th {\n",
       "        vertical-align: top;\n",
       "    }\n",
       "\n",
       "    .dataframe thead th {\n",
       "        text-align: right;\n",
       "    }\n",
       "</style>\n",
       "<table border=\"1\" class=\"dataframe\">\n",
       "  <thead>\n",
       "    <tr style=\"text-align: right;\">\n",
       "      <th></th>\n",
       "      <th>name</th>\n",
       "      <th>age</th>\n",
       "      <th>country</th>\n",
       "      <th>score</th>\n",
       "      <th>continent</th>\n",
       "    </tr>\n",
       "    <tr>\n",
       "      <th>user_id</th>\n",
       "      <th></th>\n",
       "      <th></th>\n",
       "      <th></th>\n",
       "      <th></th>\n",
       "      <th></th>\n",
       "    </tr>\n",
       "  </thead>\n",
       "  <tbody>\n",
       "    <tr>\n",
       "      <th>1001</th>\n",
       "      <td>Mark</td>\n",
       "      <td>55</td>\n",
       "      <td>Italy</td>\n",
       "      <td>4.5</td>\n",
       "      <td>Europe</td>\n",
       "    </tr>\n",
       "    <tr>\n",
       "      <th>1000</th>\n",
       "      <td>John</td>\n",
       "      <td>33</td>\n",
       "      <td>USA</td>\n",
       "      <td>6.7</td>\n",
       "      <td>America</td>\n",
       "    </tr>\n",
       "  </tbody>\n",
       "</table>\n",
       "</div>"
      ],
      "text/plain": [
       "         name  age country  score continent\n",
       "user_id                                    \n",
       "1001     Mark   55   Italy    4.5    Europe\n",
       "1000     John   33     USA    6.7   America"
      ]
     },
     "execution_count": 7,
     "metadata": {},
     "output_type": "execute_result"
    }
   ],
   "source": [
    "#*******************************************************************************\n",
    "# 8.12. Crea libro, hoja y DataFrame.\n",
    "#*******************************************************************************\n",
    "libro2 = xw.Book()\n",
    "libro2.sheets #Sheets([<Sheet [Libro2]Hoja1>])\n",
    "hoja2 = libro2.sheets[0]\n",
    "#\n",
    "data = [[\"Mark\", 55, \"Italy\", 4.5, \"Europe\"], \n",
    "        [\"John\", 33, \"USA\", 6.7, \"America\"]]\n",
    "df = pd.DataFrame(data=data, \n",
    "                  columns=[\"name\", \"age\", \"country\", \"score\", \"continent\"], \n",
    "                  index=[1001, 1000])\n",
    "df.index.name = \"user_id\"\n",
    "df"
   ]
  },
  {
   "cell_type": "code",
   "execution_count": 18,
   "metadata": {},
   "outputs": [],
   "source": [
    "#*******************************************************************************\n",
    "# 8.13. Escribe DataFrame en hoja Excel.\n",
    "#*******************************************************************************\n",
    "# hoja2[\"A6\"].value = df # No suprime encabezado, ni índice.\n",
    "# Suprime encabezado e índice.\n",
    "hoja2[\"B10\"].options(header=False, index=False).value = df"
   ]
  },
  {
   "cell_type": "code",
   "execution_count": 19,
   "metadata": {},
   "outputs": [
    {
     "data": {
      "text/html": [
       "<div>\n",
       "<style scoped>\n",
       "    .dataframe tbody tr th:only-of-type {\n",
       "        vertical-align: middle;\n",
       "    }\n",
       "\n",
       "    .dataframe tbody tr th {\n",
       "        vertical-align: top;\n",
       "    }\n",
       "\n",
       "    .dataframe thead th {\n",
       "        text-align: right;\n",
       "    }\n",
       "</style>\n",
       "<table border=\"1\" class=\"dataframe\">\n",
       "  <thead>\n",
       "    <tr style=\"text-align: right;\">\n",
       "      <th></th>\n",
       "      <th>name</th>\n",
       "      <th>age</th>\n",
       "      <th>country</th>\n",
       "      <th>score</th>\n",
       "      <th>continent</th>\n",
       "    </tr>\n",
       "    <tr>\n",
       "      <th>user_id</th>\n",
       "      <th></th>\n",
       "      <th></th>\n",
       "      <th></th>\n",
       "      <th></th>\n",
       "      <th></th>\n",
       "    </tr>\n",
       "  </thead>\n",
       "  <tbody>\n",
       "    <tr>\n",
       "      <th>1001.0</th>\n",
       "      <td>Mark</td>\n",
       "      <td>55.0</td>\n",
       "      <td>Italy</td>\n",
       "      <td>4.5</td>\n",
       "      <td>Europe</td>\n",
       "    </tr>\n",
       "    <tr>\n",
       "      <th>1000.0</th>\n",
       "      <td>John</td>\n",
       "      <td>33.0</td>\n",
       "      <td>USA</td>\n",
       "      <td>6.7</td>\n",
       "      <td>America</td>\n",
       "    </tr>\n",
       "  </tbody>\n",
       "</table>\n",
       "</div>"
      ],
      "text/plain": [
       "         name   age country  score continent\n",
       "user_id                                     \n",
       "1001.0   Mark  55.0   Italy    4.5    Europe\n",
       "1000.0   John  33.0     USA    6.7   America"
      ]
     },
     "execution_count": 19,
     "metadata": {},
     "output_type": "execute_result"
    }
   ],
   "source": [
    "#*******************************************************************************\n",
    "# 8.14. Lee hoja Excel y escribe en DataFrame.\n",
    "#*******************************************************************************\n",
    "#expand() permite leer celdas contiguas.\n",
    "df2 = hoja2[\"A6\"].expand().options(pd.DataFrame).value\n",
    "df2"
   ]
  },
  {
   "cell_type": "code",
   "execution_count": 20,
   "metadata": {},
   "outputs": [
    {
     "data": {
      "text/html": [
       "<div>\n",
       "<style scoped>\n",
       "    .dataframe tbody tr th:only-of-type {\n",
       "        vertical-align: middle;\n",
       "    }\n",
       "\n",
       "    .dataframe tbody tr th {\n",
       "        vertical-align: top;\n",
       "    }\n",
       "\n",
       "    .dataframe thead th {\n",
       "        text-align: right;\n",
       "    }\n",
       "</style>\n",
       "<table border=\"1\" class=\"dataframe\">\n",
       "  <thead>\n",
       "    <tr style=\"text-align: right;\">\n",
       "      <th></th>\n",
       "      <th>name</th>\n",
       "      <th>age</th>\n",
       "      <th>country</th>\n",
       "      <th>score</th>\n",
       "      <th>continent</th>\n",
       "    </tr>\n",
       "    <tr>\n",
       "      <th>user_id</th>\n",
       "      <th></th>\n",
       "      <th></th>\n",
       "      <th></th>\n",
       "      <th></th>\n",
       "      <th></th>\n",
       "    </tr>\n",
       "  </thead>\n",
       "  <tbody>\n",
       "    <tr>\n",
       "      <th>1001</th>\n",
       "      <td>Mark</td>\n",
       "      <td>55.0</td>\n",
       "      <td>Italy</td>\n",
       "      <td>4.5</td>\n",
       "      <td>Europe</td>\n",
       "    </tr>\n",
       "    <tr>\n",
       "      <th>1000</th>\n",
       "      <td>John</td>\n",
       "      <td>33.0</td>\n",
       "      <td>USA</td>\n",
       "      <td>6.7</td>\n",
       "      <td>America</td>\n",
       "    </tr>\n",
       "  </tbody>\n",
       "</table>\n",
       "</div>"
      ],
      "text/plain": [
       "         name   age country  score continent\n",
       "user_id                                     \n",
       "1001     Mark  55.0   Italy    4.5    Europe\n",
       "1000     John  33.0     USA    6.7   America"
      ]
     },
     "execution_count": 20,
     "metadata": {},
     "output_type": "execute_result"
    }
   ],
   "source": [
    "#*******************************************************************************\n",
    "# 8.15. Convierte el índice a entero.\n",
    "#*******************************************************************************\n",
    "df2.index = df2.index.astype(int)\n",
    "df2"
   ]
  },
  {
   "cell_type": "code",
   "execution_count": 21,
   "metadata": {},
   "outputs": [
    {
     "data": {
      "text/html": [
       "<div>\n",
       "<style scoped>\n",
       "    .dataframe tbody tr th:only-of-type {\n",
       "        vertical-align: middle;\n",
       "    }\n",
       "\n",
       "    .dataframe tbody tr th {\n",
       "        vertical-align: top;\n",
       "    }\n",
       "\n",
       "    .dataframe thead th {\n",
       "        text-align: right;\n",
       "    }\n",
       "</style>\n",
       "<table border=\"1\" class=\"dataframe\">\n",
       "  <thead>\n",
       "    <tr style=\"text-align: right;\">\n",
       "      <th></th>\n",
       "      <th>user_id</th>\n",
       "      <th>name</th>\n",
       "      <th>age</th>\n",
       "      <th>country</th>\n",
       "      <th>score</th>\n",
       "      <th>continent</th>\n",
       "    </tr>\n",
       "  </thead>\n",
       "  <tbody>\n",
       "    <tr>\n",
       "      <th>0</th>\n",
       "      <td>1001.0</td>\n",
       "      <td>Mark</td>\n",
       "      <td>55.0</td>\n",
       "      <td>Italy</td>\n",
       "      <td>4.5</td>\n",
       "      <td>Europe</td>\n",
       "    </tr>\n",
       "    <tr>\n",
       "      <th>1</th>\n",
       "      <td>1000.0</td>\n",
       "      <td>John</td>\n",
       "      <td>33.0</td>\n",
       "      <td>USA</td>\n",
       "      <td>6.7</td>\n",
       "      <td>America</td>\n",
       "    </tr>\n",
       "  </tbody>\n",
       "</table>\n",
       "</div>"
      ],
      "text/plain": [
       "   user_id  name   age country  score continent\n",
       "0   1001.0  Mark  55.0   Italy    4.5    Europe\n",
       "1   1000.0  John  33.0     USA    6.7   America"
      ]
     },
     "execution_count": 21,
     "metadata": {},
     "output_type": "execute_result"
    }
   ],
   "source": [
    "#*******************************************************************************\n",
    "# 8.16. Lee todas las columnas como datos, sin índices.\n",
    "#*******************************************************************************\n",
    "hoja2[\"A6\"].expand().options(pd.DataFrame, index=False).value"
   ]
  },
  {
   "cell_type": "markdown",
   "metadata": {},
   "source": [
    "### 8.4.2. Convertidores y opciones\n",
    "La sintasis es: myrange.options(convert=None, option1=value1, option2=value2, ...).value\n",
    "\n",
    "* Los convertidores internos ('build-in') son:\n",
    "\n",
    "1. dict\n",
    "2. np.array\n",
    "3. pd.Series\n",
    "4. pd.DataFrame\n",
    "\n",
    "* Las opciones disponibles son las siguientes:\n",
    "1. empty\n",
    "2. date\n",
    "3. numbers\n",
    "4. ndim\n",
    "5. transpose\n",
    "6. index\n",
    "7. header"
   ]
  },
  {
   "cell_type": "markdown",
   "metadata": {},
   "source": [
    "## 8.5. Gráficos (charts de Excel), pinturas (pictures de Matplotlib) y Nombres (de rangos Excel)\n",
    "\n",
    "### 8.5.1. Gráficos de Excel"
   ]
  },
  {
   "cell_type": "code",
   "execution_count": null,
   "metadata": {},
   "outputs": [],
   "source": [
    "#*******************************************************************************\n",
    "# 8.17. Gráficos (charts) de Excel.\n",
    "#*******************************************************************************\n"
   ]
  },
  {
   "cell_type": "markdown",
   "metadata": {},
   "source": [
    "### 8.5.2. Pinturas: Gráficos (plot) de Matplotlib"
   ]
  },
  {
   "cell_type": "code",
   "execution_count": null,
   "metadata": {},
   "outputs": [],
   "source": [
    "#*******************************************************************************\n",
    "# 8.18. Gráficos (plot) de Matplotlib.\n",
    "#*******************************************************************************"
   ]
  },
  {
   "cell_type": "markdown",
   "metadata": {},
   "source": [
    "### 8.5.3. Nombres (de Excel)"
   ]
  },
  {
   "cell_type": "code",
   "execution_count": 15,
   "metadata": {},
   "outputs": [
    {
     "data": {
      "text/plain": [
       "<Range [Libro1]Hoja1!$A$1:$B$2>"
      ]
     },
     "execution_count": 15,
     "metadata": {},
     "output_type": "execute_result"
    }
   ],
   "source": [
    "#*******************************************************************************\n",
    "# 8.19. Asigna nombres a varios rangos.\n",
    "#*******************************************************************************\n",
    "hoja2[\"A1:B2\"].name = \"matriz1\"\n",
    "hoja2[\"B10:E11\"].name = \"Hoja1!matriz2\"\n",
    "# hoja2[\"matriz2\"]\n",
    "hoja2.names\n",
    "#[<Name 'Hoja1!matriz2': =Hoja1!$B$10:$E$11>]\n",
    "# libro2.names \n",
    "#[<Name 'matriz1': =Hoja1!$A$1:$B$2>, <Name 'Hoja1!matriz2': =Hoja1!$B$10:$E$11>]\n",
    "libro2.names[\"matriz1\"].refers_to_range"
   ]
  },
  {
   "cell_type": "code",
   "execution_count": 16,
   "metadata": {},
   "outputs": [
    {
     "data": {
      "text/plain": [
       "<Name 'TRM': = 4320>"
      ]
     },
     "execution_count": 16,
     "metadata": {},
     "output_type": "execute_result"
    }
   ],
   "source": [
    "#*******************************************************************************\n",
    "# 8.20. Asigna nombres a una constante o fórmula.\n",
    "#*******************************************************************************\n",
    "libro2.names.add(\"TRM\", \"= 4320\")"
   ]
  },
  {
   "cell_type": "markdown",
   "metadata": {},
   "source": [
    "## 8.6. Lee la demanda de energia mensual (demanda2)"
   ]
  },
  {
   "cell_type": "code",
   "execution_count": 24,
   "metadata": {},
   "outputs": [],
   "source": [
    "#*******************************************************************************\n",
    "# 8.21. Elabora df de demanda, de 2022-12-01 a 2028-12-01.\n",
    "#*******************************************************************************\n",
    "libro = xw.Book(r\"xlsx/Proyección demanda energía CCA 2022 - 2029.xlsx\")\n",
    "hoja = libro.sheets[0]\n",
    "demanda = hoja.range(\"A1:D156\").options(pd.DataFrame).value\n",
    "demanda = demanda.loc['2022-12-01':'2028-12-01', ['Demanda_proyectada']]\n",
    "demanda.columns = ['demanda']\n",
    "demanda.index.name = 'Date'\n",
    "demanda = demanda/1e6"
   ]
  },
  {
   "cell_type": "code",
   "execution_count": 25,
   "metadata": {},
   "outputs": [
    {
     "data": {
      "text/html": [
       "<div>\n",
       "<style scoped>\n",
       "    .dataframe tbody tr th:only-of-type {\n",
       "        vertical-align: middle;\n",
       "    }\n",
       "\n",
       "    .dataframe tbody tr th {\n",
       "        vertical-align: top;\n",
       "    }\n",
       "\n",
       "    .dataframe thead th {\n",
       "        text-align: right;\n",
       "    }\n",
       "</style>\n",
       "<table border=\"1\" class=\"dataframe\">\n",
       "  <thead>\n",
       "    <tr style=\"text-align: right;\">\n",
       "      <th></th>\n",
       "      <th>demanda</th>\n",
       "    </tr>\n",
       "    <tr>\n",
       "      <th>Date</th>\n",
       "      <th></th>\n",
       "    </tr>\n",
       "  </thead>\n",
       "  <tbody>\n",
       "    <tr>\n",
       "      <th>2022-12-01</th>\n",
       "      <td>11.331583</td>\n",
       "    </tr>\n",
       "    <tr>\n",
       "      <th>2023-01-01</th>\n",
       "      <td>11.513704</td>\n",
       "    </tr>\n",
       "    <tr>\n",
       "      <th>2023-02-01</th>\n",
       "      <td>10.349815</td>\n",
       "    </tr>\n",
       "    <tr>\n",
       "      <th>2023-03-01</th>\n",
       "      <td>11.573830</td>\n",
       "    </tr>\n",
       "    <tr>\n",
       "      <th>2023-04-01</th>\n",
       "      <td>11.322396</td>\n",
       "    </tr>\n",
       "    <tr>\n",
       "      <th>...</th>\n",
       "      <td>...</td>\n",
       "    </tr>\n",
       "    <tr>\n",
       "      <th>2028-08-01</th>\n",
       "      <td>8.491694</td>\n",
       "    </tr>\n",
       "    <tr>\n",
       "      <th>2028-09-01</th>\n",
       "      <td>8.218765</td>\n",
       "    </tr>\n",
       "    <tr>\n",
       "      <th>2028-10-01</th>\n",
       "      <td>8.493629</td>\n",
       "    </tr>\n",
       "    <tr>\n",
       "      <th>2028-11-01</th>\n",
       "      <td>8.220392</td>\n",
       "    </tr>\n",
       "    <tr>\n",
       "      <th>2028-12-01</th>\n",
       "      <td>8.495014</td>\n",
       "    </tr>\n",
       "  </tbody>\n",
       "</table>\n",
       "<p>73 rows × 1 columns</p>\n",
       "</div>"
      ],
      "text/plain": [
       "              demanda\n",
       "Date                 \n",
       "2022-12-01  11.331583\n",
       "2023-01-01  11.513704\n",
       "2023-02-01  10.349815\n",
       "2023-03-01  11.573830\n",
       "2023-04-01  11.322396\n",
       "...               ...\n",
       "2028-08-01   8.491694\n",
       "2028-09-01   8.218765\n",
       "2028-10-01   8.493629\n",
       "2028-11-01   8.220392\n",
       "2028-12-01   8.495014\n",
       "\n",
       "[73 rows x 1 columns]"
      ]
     },
     "execution_count": 25,
     "metadata": {},
     "output_type": "execute_result"
    }
   ],
   "source": [
    "demanda"
   ]
  },
  {
   "cell_type": "code",
   "execution_count": 27,
   "metadata": {},
   "outputs": [],
   "source": [
    "#*******************************************************************************       \n",
    "# 8.22. Salva y lee demanda del bloque.\n",
    "#*******************************************************************************\n",
    "# #Salva demanda\n",
    "# demanda.to_parquet('parquet/demanda.parquet.gzip', \\\n",
    "#         compression='gzip', engine='fastparquet')\n",
    "# demanda.to_excel('xlsx/demanda.xlsx', sheet_name='hoja_1')\n",
    "#Lee demanda\n",
    "demanda = pd.read_parquet('parquet/demanda.parquet.gzip', \\\n",
    "    engine='fastparquet')"
   ]
  }
 ],
 "metadata": {
  "kernelspec": {
   "display_name": "Python 3.9.12 ('base')",
   "language": "python",
   "name": "python3"
  },
  "language_info": {
   "codemirror_mode": {
    "name": "ipython",
    "version": 3
   },
   "file_extension": ".py",
   "mimetype": "text/x-python",
   "name": "python",
   "nbconvert_exporter": "python",
   "pygments_lexer": "ipython3",
   "version": "3.9.12"
  },
  "orig_nbformat": 4,
  "vscode": {
   "interpreter": {
    "hash": "6ef3d5c7e38b83ce83c47390792005d39988e1ebb7bf2f58f567f819ea702123"
   }
  }
 },
 "nbformat": 4,
 "nbformat_minor": 2
}
